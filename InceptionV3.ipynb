{
 "cells": [
  {
   "cell_type": "code",
   "execution_count": 1,
   "metadata": {
    "collapsed": true
   },
   "outputs": [],
   "source": [
    "import pandas as pd\n",
    "import pathlib\n",
    "import tensorflow as tf\n",
    "import matplotlib.pyplot as plt\n",
    "from tensorflow import keras\n",
    "from keras.preprocessing.image import ImageDataGenerator\n",
    "from keras.models import Sequential\n",
    "from keras import applications\n",
    "from keras.layers import Activation, Dropout, Flatten, Dense,GlobalAveragePooling2D, BatchNormalization\n",
    "import visualkeras"
   ]
  },
  {
   "cell_type": "code",
   "execution_count": 2,
   "outputs": [],
   "source": [
    "labels_csv = pd.read_csv('labels.csv')\n",
    "labels_csv[\"id\"] = [fname + \".jpg\" for fname in labels_csv[\"id\"]]\n",
    "data_train = pathlib.Path('train')\n",
    "data_test = pathlib.Path('test')"
   ],
   "metadata": {
    "collapsed": false,
    "pycharm": {
     "name": "#%%\n"
    }
   }
  },
  {
   "cell_type": "code",
   "execution_count": 7,
   "outputs": [],
   "source": [
    "batch_size = 16\n",
    "img_size = 224"
   ],
   "metadata": {
    "collapsed": false,
    "pycharm": {
     "name": "#%%\n"
    }
   }
  },
  {
   "cell_type": "code",
   "execution_count": 8,
   "outputs": [
    {
     "name": "stdout",
     "output_type": "stream",
     "text": [
      "Found 8178 validated image filenames belonging to 120 classes.\n",
      "Found 2044 validated image filenames belonging to 120 classes.\n"
     ]
    }
   ],
   "source": [
    "datagen = ImageDataGenerator(preprocessing_function = keras.applications.inception_v3.preprocess_input, validation_split=0.2)\n",
    "train_generator = datagen.flow_from_dataframe(\n",
    "                        dataframe = labels_csv,\n",
    "                        directory = data_train,\n",
    "                        subset=\"training\",\n",
    "                        x_col=\"id\",\n",
    "                        y_col=\"breed\",\n",
    "                        batch_size=batch_size,\n",
    "                        shuffle=True,\n",
    "                        class_mode=\"sparse\",\n",
    "                        color_mode=\"rgb\",\n",
    "                        target_size=(img_size, img_size))\n",
    "\n",
    "validation_generator = datagen.flow_from_dataframe(\n",
    "                        dataframe = labels_csv,\n",
    "                        directory = data_train,\n",
    "                        subset=\"validation\",\n",
    "                        x_col=\"id\",\n",
    "                        y_col=\"breed\",\n",
    "                        batch_size=batch_size,\n",
    "                        shuffle=True,\n",
    "                        class_mode=\"sparse\",\n",
    "                        color_mode=\"rgb\",\n",
    "                        target_size=(img_size, img_size))"
   ],
   "metadata": {
    "collapsed": false,
    "pycharm": {
     "name": "#%%\n"
    }
   }
  },
  {
   "cell_type": "code",
   "execution_count": 9,
   "outputs": [
    {
     "name": "stdout",
     "output_type": "stream",
     "text": [
      "Model: \"sequential_1\"\n",
      "_________________________________________________________________\n",
      " Layer (type)                Output Shape              Param #   \n",
      "=================================================================\n",
      " inception_v3 (Functional)   (None, 5, 5, 2048)        21802784  \n",
      "                                                                 \n",
      " batch_normalization_189 (Ba  (None, 5, 5, 2048)       8192      \n",
      " tchNormalization)                                               \n",
      "                                                                 \n",
      " global_average_pooling2d_1   (None, 2048)             0         \n",
      " (GlobalAveragePooling2D)                                        \n",
      "                                                                 \n",
      " dropout_2 (Dropout)         (None, 2048)              0         \n",
      "                                                                 \n",
      " dense_2 (Dense)             (None, 1024)              2098176   \n",
      "                                                                 \n",
      " dropout_3 (Dropout)         (None, 1024)              0         \n",
      "                                                                 \n",
      " dense_3 (Dense)             (None, 120)               123000    \n",
      "                                                                 \n",
      "=================================================================\n",
      "Total params: 24,032,152\n",
      "Trainable params: 2,225,272\n",
      "Non-trainable params: 21,806,880\n",
      "_________________________________________________________________\n"
     ]
    }
   ],
   "source": [
    "base = applications.inception_v3.InceptionV3(include_top=False, weights='imagenet',input_shape=(224,224,3))\n",
    "\n",
    "for layer in base.layers:\n",
    "    layer.trainable=False\n",
    "\n",
    "model = Sequential()\n",
    "model.add(base)\n",
    "model.add(BatchNormalization())\n",
    "model.add(GlobalAveragePooling2D())\n",
    "model.add(Dropout(0.5))\n",
    "model.add(Dense(1024, activation='relu'))\n",
    "model.add(Dropout(0.5))\n",
    "model.add(Dense(120, activation='softmax'))\n",
    "model.summary()\n",
    "\n",
    "optimizer=tf.keras.optimizers.Adam(learning_rate = 0.0001)\n",
    "model.compile(optimizer=optimizer,\n",
    "              loss='sparse_categorical_crossentropy',\n",
    "              metrics=['accuracy'])"
   ],
   "metadata": {
    "collapsed": false,
    "pycharm": {
     "name": "#%%\n"
    }
   }
  },
  {
   "cell_type": "code",
   "execution_count": 10,
   "outputs": [
    {
     "name": "stdout",
     "output_type": "stream",
     "text": [
      "Epoch 1/20\n",
      "512/512 [==============================] - 18s 30ms/step - loss: 2.8610 - accuracy: 0.3908 - val_loss: 0.8660 - val_accuracy: 0.7759\n",
      "Epoch 2/20\n",
      "512/512 [==============================] - 14s 28ms/step - loss: 1.1249 - accuracy: 0.7069 - val_loss: 0.6847 - val_accuracy: 0.8019\n",
      "Epoch 3/20\n",
      "512/512 [==============================] - 14s 27ms/step - loss: 0.8602 - accuracy: 0.7607 - val_loss: 0.6607 - val_accuracy: 0.7994\n",
      "Epoch 4/20\n",
      "512/512 [==============================] - 14s 27ms/step - loss: 0.7578 - accuracy: 0.7775 - val_loss: 0.6496 - val_accuracy: 0.8082\n",
      "Epoch 5/20\n",
      "512/512 [==============================] - 14s 28ms/step - loss: 0.6936 - accuracy: 0.7964 - val_loss: 0.6500 - val_accuracy: 0.8077\n",
      "Epoch 6/20\n",
      "512/512 [==============================] - 14s 27ms/step - loss: 0.6134 - accuracy: 0.8107 - val_loss: 0.6524 - val_accuracy: 0.8112\n",
      "Epoch 7/20\n",
      "512/512 [==============================] - 14s 27ms/step - loss: 0.5891 - accuracy: 0.8174 - val_loss: 0.6546 - val_accuracy: 0.8160\n",
      "Epoch 8/20\n",
      "512/512 [==============================] - 14s 28ms/step - loss: 0.5114 - accuracy: 0.8426 - val_loss: 0.6593 - val_accuracy: 0.8141\n",
      "Epoch 9/20\n",
      "512/512 [==============================] - 14s 27ms/step - loss: 0.4905 - accuracy: 0.8463 - val_loss: 0.6785 - val_accuracy: 0.8092\n",
      "Epoch 10/20\n",
      "512/512 [==============================] - 14s 27ms/step - loss: 0.4494 - accuracy: 0.8568 - val_loss: 0.6851 - val_accuracy: 0.8063\n",
      "Epoch 11/20\n",
      "512/512 [==============================] - 14s 28ms/step - loss: 0.4247 - accuracy: 0.8654 - val_loss: 0.6890 - val_accuracy: 0.8072\n",
      "Epoch 12/20\n",
      "512/512 [==============================] - 14s 28ms/step - loss: 0.3914 - accuracy: 0.8732 - val_loss: 0.6902 - val_accuracy: 0.8097\n",
      "Epoch 13/20\n",
      "512/512 [==============================] - 14s 28ms/step - loss: 0.3800 - accuracy: 0.8748 - val_loss: 0.7071 - val_accuracy: 0.8077\n",
      "Epoch 14/20\n",
      "512/512 [==============================] - 14s 28ms/step - loss: 0.3410 - accuracy: 0.8880 - val_loss: 0.7288 - val_accuracy: 0.8063\n",
      "Epoch 15/20\n",
      "512/512 [==============================] - 14s 28ms/step - loss: 0.3137 - accuracy: 0.8941 - val_loss: 0.7211 - val_accuracy: 0.8087\n",
      "Epoch 16/20\n",
      "512/512 [==============================] - 14s 28ms/step - loss: 0.3126 - accuracy: 0.8919 - val_loss: 0.7280 - val_accuracy: 0.8116\n",
      "Epoch 17/20\n",
      "512/512 [==============================] - 14s 28ms/step - loss: 0.3075 - accuracy: 0.8978 - val_loss: 0.7477 - val_accuracy: 0.8028\n",
      "Epoch 18/20\n",
      "512/512 [==============================] - 14s 28ms/step - loss: 0.2835 - accuracy: 0.9079 - val_loss: 0.7433 - val_accuracy: 0.8082\n",
      "Epoch 19/20\n",
      "512/512 [==============================] - 14s 27ms/step - loss: 0.2713 - accuracy: 0.9057 - val_loss: 0.7639 - val_accuracy: 0.8097\n",
      "Epoch 20/20\n",
      "512/512 [==============================] - 14s 28ms/step - loss: 0.2672 - accuracy: 0.9077 - val_loss: 0.7528 - val_accuracy: 0.8116\n"
     ]
    }
   ],
   "source": [
    "history_inc = model.fit(train_generator, epochs=20, verbose = 1,\n",
    "                        validation_data=validation_generator)"
   ],
   "metadata": {
    "collapsed": false,
    "pycharm": {
     "name": "#%%\n"
    }
   }
  },
  {
   "cell_type": "code",
   "execution_count": 11,
   "outputs": [
    {
     "data": {
      "text/plain": "<Figure size 432x288 with 1 Axes>",
      "image/png": "[encoded data removed]"
     },
     "metadata": {
      "needs_background": "light"
     },
     "output_type": "display_data"
    },
    {
     "data": {
      "text/plain": "<Figure size 432x288 with 1 Axes>",
      "image/png": "[encoded data removed]"
     },
     "metadata": {
      "needs_background": "light"
     },
     "output_type": "display_data"
    }
   ],
   "source": [
    "plt.figure()\n",
    "plt.plot(history_inc .history[\"val_loss\"], label = \"Val loss\")\n",
    "plt.plot(history_inc .history[\"loss\"], label = \"Train loss\")\n",
    "plt.legend()\n",
    "plt.show()\n",
    "plt.figure()\n",
    "plt.plot(history_inc .history[\"val_accuracy\"], label = \"Val accuracy\")\n",
    "plt.plot(history_inc .history[\"accuracy\"], label = \"Accuracy\")\n",
    "plt.legend()\n",
    "plt.show()"
   ],
   "metadata": {
    "collapsed": false,
    "pycharm": {
     "name": "#%%\n"
    }
   }
  },
  {
   "cell_type": "code",
   "execution_count": 12,
   "outputs": [
    {
     "data": {
      "text/plain": "<PIL.Image.Image image mode=RGBA size=1131x63 at 0x1C7CDFB4AC0>",
      "image/png": "[encoded data removed]"
     },
     "execution_count": 12,
     "metadata": {},
     "output_type": "execute_result"
    }
   ],
   "source": [
    "visualkeras.layered_view(model,  legend=True)"
   ],
   "metadata": {
    "collapsed": false,
    "pycharm": {
     "name": "#%%\n"
    }
   }
  },
  {
   "cell_type": "code",
   "execution_count": null,
   "outputs": [],
   "source": [],
   "metadata": {
    "collapsed": false,
    "pycharm": {
     "name": "#%%\n"
    }
   }
  }
 ],
 "metadata": {
  "kernelspec": {
   "display_name": "Python 3",
   "language": "python",
   "name": "python3"
  },
  "language_info": {
   "codemirror_mode": {
    "name": "ipython",
    "version": 2
   },
   "file_extension": ".py",
   "mimetype": "text/x-python",
   "name": "python",
   "nbconvert_exporter": "python",
   "pygments_lexer": "ipython2",
   "version": "2.7.6"
  }
 },
 "nbformat": 4,
 "nbformat_minor": 0
}