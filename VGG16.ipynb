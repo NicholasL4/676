{
 "cells": [
  {
   "cell_type": "code",
   "execution_count": 71,
   "metadata": {
    "collapsed": true
   },
   "outputs": [],
   "source": [
    "import pandas as pd\n",
    "import pathlib\n",
    "import tensorflow as tf\n",
    "import matplotlib.pyplot as plt\n",
    "import visualkeras as visualkeras\n",
    "from tensorflow import keras\n",
    "from keras.preprocessing.image import ImageDataGenerator\n",
    "from keras.models import Sequential\n",
    "from keras import applications\n",
    "from keras.layers import Activation, Dropout, Flatten, Dense, GlobalAveragePooling2D, BatchNormalization\n",
    "from keras.callbacks import ModelCheckpoint\n",
    "import visualkeras"
   ]
  },
  {
   "cell_type": "code",
   "execution_count": 44,
   "outputs": [],
   "source": [
    "labels_csv = pd.read_csv('labels.csv')\n",
    "labels_csv[\"id\"] = [fname + \".jpg\" for fname in labels_csv[\"id\"]]\n",
    "data_train = pathlib.Path('train')\n",
    "data_test = pathlib.Path('test')"
   ],
   "metadata": {
    "collapsed": false,
    "pycharm": {
     "name": "#%%\n"
    }
   }
  },
  {
   "cell_type": "code",
   "execution_count": 65,
   "outputs": [],
   "source": [
    "batch_size = 16\n",
    "img_size = 224"
   ],
   "metadata": {
    "collapsed": false,
    "pycharm": {
     "name": "#%%\n"
    }
   }
  },
  {
   "cell_type": "code",
   "execution_count": 66,
   "outputs": [
    {
     "name": "stdout",
     "output_type": "stream",
     "text": [
      "Found 8178 validated image filenames belonging to 120 classes.\n",
      "Found 2044 validated image filenames belonging to 120 classes.\n"
     ]
    }
   ],
   "source": [
    "datagen = ImageDataGenerator(preprocessing_function = keras.applications.vgg16.preprocess_input, validation_split=0.2)\n",
    "\n",
    "train_generator = datagen.flow_from_dataframe(\n",
    "                        dataframe = labels_csv,\n",
    "                        directory = data_train,\n",
    "                        subset=\"training\",\n",
    "                        x_col=\"id\",\n",
    "                        y_col=\"breed\",\n",
    "                        batch_size=batch_size,\n",
    "                        shuffle=True,\n",
    "                        class_mode=\"sparse\",\n",
    "                        color_mode=\"rgb\",\n",
    "                        target_size=(img_size, img_size))\n",
    "\n",
    "validation_generator = datagen.flow_from_dataframe(\n",
    "                        dataframe = labels_csv,\n",
    "                        directory = data_train,\n",
    "                        subset=\"validation\",\n",
    "                        x_col=\"id\",\n",
    "                        y_col=\"breed\",\n",
    "                        batch_size=batch_size,\n",
    "                        shuffle=True,\n",
    "                        class_mode=\"sparse\",\n",
    "                        color_mode=\"rgb\",\n",
    "                        target_size=(img_size, img_size))"
   ],
   "metadata": {
    "collapsed": false,
    "pycharm": {
     "name": "#%%\n"
    }
   }
  },
  {
   "cell_type": "code",
   "execution_count": 67,
   "outputs": [
    {
     "name": "stdout",
     "output_type": "stream",
     "text": [
      "Model: \"sequential_20\"\n",
      "_________________________________________________________________\n",
      " Layer (type)                Output Shape              Param #   \n",
      "=================================================================\n",
      " vgg16 (Functional)          (None, 7, 7, 512)         14714688  \n",
      "                                                                 \n",
      " batch_normalization_12 (Bat  (None, 7, 7, 512)        2048      \n",
      " chNormalization)                                                \n",
      "                                                                 \n",
      " global_average_pooling2d_14  (None, 512)              0         \n",
      "  (GlobalAveragePooling2D)                                       \n",
      "                                                                 \n",
      " dropout_36 (Dropout)        (None, 512)               0         \n",
      "                                                                 \n",
      " dense_42 (Dense)            (None, 1024)              525312    \n",
      "                                                                 \n",
      " dropout_37 (Dropout)        (None, 1024)              0         \n",
      "                                                                 \n",
      " dense_43 (Dense)            (None, 256)               262400    \n",
      "                                                                 \n",
      " dropout_38 (Dropout)        (None, 256)               0         \n",
      "                                                                 \n",
      " dense_44 (Dense)            (None, 120)               30840     \n",
      "                                                                 \n",
      "=================================================================\n",
      "Total params: 15,535,288\n",
      "Trainable params: 819,576\n",
      "Non-trainable params: 14,715,712\n",
      "_________________________________________________________________\n"
     ]
    }
   ],
   "source": [
    "vgg16 = applications.vgg16.VGG16(include_top=False, weights='imagenet',input_shape=(224,224,3))\n",
    "\n",
    "for layer in vgg16.layers:\n",
    "    layer.trainable=False\n",
    "\n",
    "model = Sequential()\n",
    "model.add(vgg16)\n",
    "model.add(BatchNormalization())\n",
    "model.add(GlobalAveragePooling2D())\n",
    "model.add(Dropout(0.5))\n",
    "model.add(Dense(1024, activation='relu'))\n",
    "model.add(Dropout(0.5))\n",
    "model.add(Dense(256, activation='relu'))\n",
    "model.add(Dropout(0.5))\n",
    "model.add(Dense(120, activation='softmax'))\n",
    "model.summary()\n",
    "\n",
    "optimizer=tf.keras.optimizers.Adam(learning_rate = 0.001)\n",
    "# optimizer = tf.keras.optimizers.RMSprop(learning_rate=1e-4, rho=0.9)\n",
    "model.compile(optimizer=optimizer,\n",
    "              loss='sparse_categorical_crossentropy',\n",
    "              metrics=['accuracy'])"
   ],
   "metadata": {
    "collapsed": false,
    "pycharm": {
     "name": "#%%\n"
    }
   }
  },
  {
   "cell_type": "code",
   "execution_count": 68,
   "outputs": [
    {
     "name": "stdout",
     "output_type": "stream",
     "text": [
      "Epoch 1/20\n",
      "512/512 [==============================] - 22s 41ms/step - loss: 3.9830 - accuracy: 0.1178 - val_loss: 2.2590 - val_accuracy: 0.4310\n",
      "Epoch 2/20\n",
      "512/512 [==============================] - 20s 38ms/step - loss: 2.7589 - accuracy: 0.2858 - val_loss: 1.6654 - val_accuracy: 0.5431\n",
      "Epoch 3/20\n",
      "512/512 [==============================] - 20s 38ms/step - loss: 2.4367 - accuracy: 0.3462 - val_loss: 1.5532 - val_accuracy: 0.5749\n",
      "Epoch 4/20\n",
      "512/512 [==============================] - 20s 38ms/step - loss: 2.2922 - accuracy: 0.3841 - val_loss: 1.4115 - val_accuracy: 0.6013\n",
      "Epoch 5/20\n",
      "512/512 [==============================] - 20s 38ms/step - loss: 2.1366 - accuracy: 0.4126 - val_loss: 1.3981 - val_accuracy: 0.6145\n",
      "Epoch 6/20\n",
      "512/512 [==============================] - 19s 38ms/step - loss: 2.0701 - accuracy: 0.4385 - val_loss: 1.3244 - val_accuracy: 0.6233\n",
      "Epoch 7/20\n",
      "512/512 [==============================] - 19s 38ms/step - loss: 1.9994 - accuracy: 0.4439 - val_loss: 1.3139 - val_accuracy: 0.6130\n",
      "Epoch 8/20\n",
      "512/512 [==============================] - 19s 38ms/step - loss: 1.9546 - accuracy: 0.4571 - val_loss: 1.2954 - val_accuracy: 0.6282\n",
      "Epoch 9/20\n",
      "512/512 [==============================] - 19s 38ms/step - loss: 1.9359 - accuracy: 0.4638 - val_loss: 1.2753 - val_accuracy: 0.6360\n",
      "Epoch 10/20\n",
      "512/512 [==============================] - 19s 38ms/step - loss: 1.9053 - accuracy: 0.4632 - val_loss: 1.2741 - val_accuracy: 0.6238\n",
      "Epoch 11/20\n",
      "512/512 [==============================] - 20s 38ms/step - loss: 1.8826 - accuracy: 0.4727 - val_loss: 1.2544 - val_accuracy: 0.6448\n",
      "Epoch 12/20\n",
      "512/512 [==============================] - 20s 38ms/step - loss: 1.8433 - accuracy: 0.4792 - val_loss: 1.2773 - val_accuracy: 0.6419\n",
      "Epoch 13/20\n",
      "512/512 [==============================] - 19s 38ms/step - loss: 1.8237 - accuracy: 0.4900 - val_loss: 1.2501 - val_accuracy: 0.6365\n",
      "Epoch 14/20\n",
      "512/512 [==============================] - 20s 38ms/step - loss: 1.8055 - accuracy: 0.4978 - val_loss: 1.2485 - val_accuracy: 0.6438\n",
      "Epoch 15/20\n",
      "512/512 [==============================] - 19s 38ms/step - loss: 1.7934 - accuracy: 0.4961 - val_loss: 1.2473 - val_accuracy: 0.6360\n",
      "Epoch 16/20\n",
      "512/512 [==============================] - 19s 38ms/step - loss: 1.7574 - accuracy: 0.5065 - val_loss: 1.2302 - val_accuracy: 0.6341\n",
      "Epoch 17/20\n",
      "512/512 [==============================] - 20s 38ms/step - loss: 1.7645 - accuracy: 0.4991 - val_loss: 1.2164 - val_accuracy: 0.6341\n",
      "Epoch 18/20\n",
      "512/512 [==============================] - 19s 38ms/step - loss: 1.7081 - accuracy: 0.5198 - val_loss: 1.2086 - val_accuracy: 0.6517\n",
      "Epoch 19/20\n",
      "512/512 [==============================] - 19s 38ms/step - loss: 1.7614 - accuracy: 0.5114 - val_loss: 1.2054 - val_accuracy: 0.6477\n",
      "Epoch 20/20\n",
      "512/512 [==============================] - 20s 38ms/step - loss: 1.7428 - accuracy: 0.5160 - val_loss: 1.2199 - val_accuracy: 0.6536\n"
     ]
    }
   ],
   "source": [
    "history_vgg = model.fit(train_generator, epochs=20, verbose = 1,\n",
    "                        validation_data=validation_generator)"
   ],
   "metadata": {
    "collapsed": false,
    "pycharm": {
     "name": "#%%\n"
    }
   }
  },
  {
   "cell_type": "code",
   "execution_count": 69,
   "outputs": [
    {
     "data": {
      "text/plain": "<Figure size 432x288 with 1 Axes>",
      "image/png": "[encoded data removed]"
     },
     "metadata": {
      "needs_background": "light"
     },
     "output_type": "display_data"
    },
    {
     "data": {
      "text/plain": "<Figure size 432x288 with 1 Axes>",
      "image/png": "[encoded data removed]"
     },
     "metadata": {
      "needs_background": "light"
     },
     "output_type": "display_data"
    }
   ],
   "source": [
    "plt.figure()\n",
    "plt.plot(history_vgg .history[\"val_loss\"], label = \"Val loss\")\n",
    "plt.plot(history_vgg .history[\"loss\"], label = \"Train loss\")\n",
    "plt.legend()\n",
    "plt.show()\n",
    "plt.figure()\n",
    "plt.plot(history_vgg .history[\"val_accuracy\"], label = \"Val accuracy\")\n",
    "plt.plot(history_vgg .history[\"accuracy\"], label = \"Accuracy\")\n",
    "plt.legend()\n",
    "plt.show()"
   ],
   "metadata": {
    "collapsed": false,
    "pycharm": {
     "name": "#%%\n"
    }
   }
  },
  {
   "cell_type": "code",
   "execution_count": 74,
   "outputs": [
    {
     "data": {
      "text/plain": "<PIL.Image.Image image mode=RGBA size=589x74 at 0x20112D2A860>",
      "image/png": "[encoded data removed]"
     },
     "execution_count": 74,
     "metadata": {},
     "output_type": "execute_result"
    }
   ],
   "source": [
    "visualkeras.layered_view(model,  legend=True)"
   ],
   "metadata": {
    "collapsed": false,
    "pycharm": {
     "name": "#%%\n"
    }
   }
  },
  {
   "cell_type": "code",
   "execution_count": null,
   "outputs": [],
   "source": [],
   "metadata": {
    "collapsed": false,
    "pycharm": {
     "name": "#%%\n"
    }
   }
  }
 ],
 "metadata": {
  "kernelspec": {
   "display_name": "Python 3",
   "language": "python",
   "name": "python3"
  },
  "language_info": {
   "codemirror_mode": {
    "name": "ipython",
    "version": 2
   },
   "file_extension": ".py",
   "mimetype": "text/x-python",
   "name": "python",
   "nbconvert_exporter": "python",
   "pygments_lexer": "ipython2",
   "version": "2.7.6"
  }
 },
 "nbformat": 4,
 "nbformat_minor": 0
}