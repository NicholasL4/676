{
 "cells": [
  {
   "cell_type": "code",
   "execution_count": 8,
   "metadata": {
    "collapsed": true
   },
   "outputs": [],
   "source": [
    "import pandas as pd\n",
    "import pathlib\n",
    "import tensorflow as tf\n",
    "import matplotlib.pyplot as plt\n",
    "from tensorflow import keras\n",
    "from keras.preprocessing.image import ImageDataGenerator\n",
    "from keras.models import Sequential\n",
    "from keras import applications\n",
    "from keras.layers import Activation, Dropout, Flatten, Dense,GlobalAveragePooling2D, BatchNormalization\n",
    "import visualkeras"
   ]
  },
  {
   "cell_type": "code",
   "execution_count": 2,
   "outputs": [],
   "source": [
    "labels_csv = pd.read_csv('labels.csv')\n",
    "labels_csv[\"id\"] = [fname + \".jpg\" for fname in labels_csv[\"id\"]]\n",
    "data_train = pathlib.Path('train')\n",
    "data_test = pathlib.Path('test')"
   ],
   "metadata": {
    "collapsed": false,
    "pycharm": {
     "name": "#%%\n"
    }
   }
  },
  {
   "cell_type": "code",
   "execution_count": 3,
   "outputs": [],
   "source": [
    "batch_size = 16\n",
    "img_size = 224"
   ],
   "metadata": {
    "collapsed": false,
    "pycharm": {
     "name": "#%%\n"
    }
   }
  },
  {
   "cell_type": "code",
   "execution_count": 4,
   "outputs": [
    {
     "name": "stdout",
     "output_type": "stream",
     "text": [
      "Found 8178 validated image filenames belonging to 120 classes.\n",
      "Found 2044 validated image filenames belonging to 120 classes.\n"
     ]
    }
   ],
   "source": [
    "datagen = ImageDataGenerator(preprocessing_function = keras.applications.resnet50.preprocess_input, validation_split=0.2)\n",
    "train_generator = datagen.flow_from_dataframe(\n",
    "                        dataframe = labels_csv,\n",
    "                        directory = data_train,\n",
    "                        subset=\"training\",\n",
    "                        x_col=\"id\",\n",
    "                        y_col=\"breed\",\n",
    "                        batch_size=batch_size,\n",
    "                        shuffle=True,\n",
    "                        class_mode=\"sparse\",\n",
    "                        color_mode=\"rgb\",\n",
    "                        target_size=(img_size, img_size))\n",
    "\n",
    "validation_generator = datagen.flow_from_dataframe(\n",
    "                        dataframe = labels_csv,\n",
    "                        directory = data_train,\n",
    "                        subset=\"validation\",\n",
    "                        x_col=\"id\",\n",
    "                        y_col=\"breed\",\n",
    "                        batch_size=batch_size,\n",
    "                        shuffle=True,\n",
    "                        class_mode=\"sparse\",\n",
    "                        color_mode=\"rgb\",\n",
    "                        target_size=(img_size, img_size))"
   ],
   "metadata": {
    "collapsed": false,
    "pycharm": {
     "name": "#%%\n"
    }
   }
  },
  {
   "cell_type": "code",
   "execution_count": 11,
   "outputs": [
    {
     "name": "stdout",
     "output_type": "stream",
     "text": [
      "Model: \"sequential_2\"\n",
      "_________________________________________________________________\n",
      " Layer (type)                Output Shape              Param #   \n",
      "=================================================================\n",
      " resnet50 (Functional)       (None, 7, 7, 2048)        23587712  \n",
      "                                                                 \n",
      " batch_normalization_2 (Batc  (None, 7, 7, 2048)       8192      \n",
      " hNormalization)                                                 \n",
      "                                                                 \n",
      " global_average_pooling2d_2   (None, 2048)             0         \n",
      " (GlobalAveragePooling2D)                                        \n",
      "                                                                 \n",
      " dropout_4 (Dropout)         (None, 2048)              0         \n",
      "                                                                 \n",
      " dense_4 (Dense)             (None, 2048)              4196352   \n",
      "                                                                 \n",
      " dropout_5 (Dropout)         (None, 2048)              0         \n",
      "                                                                 \n",
      " dense_5 (Dense)             (None, 120)               245880    \n",
      "                                                                 \n",
      "=================================================================\n",
      "Total params: 28,038,136\n",
      "Trainable params: 4,446,328\n",
      "Non-trainable params: 23,591,808\n",
      "_________________________________________________________________\n"
     ]
    }
   ],
   "source": [
    "resnet50 = keras.applications.ResNet50(include_top=False, weights='imagenet',input_shape=(224,224,3))\n",
    "\n",
    "for layer in resnet50.layers:\n",
    "    layer.trainable=False\n",
    "\n",
    "model = Sequential()\n",
    "model.add(resnet50)\n",
    "model.add(BatchNormalization())\n",
    "model.add(GlobalAveragePooling2D())\n",
    "model.add(Dropout(0.5))\n",
    "model.add(Dense(2048, activation='relu'))\n",
    "model.add(Dropout(0.5))\n",
    "model.add(Dense(120, activation='softmax'))\n",
    "model.summary()\n",
    "\n",
    "optimizer=tf.keras.optimizers.Adam(learning_rate = 0.0001)\n",
    "model.compile(optimizer=optimizer,\n",
    "              loss='sparse_categorical_crossentropy',\n",
    "              metrics=['accuracy'])"
   ],
   "metadata": {
    "collapsed": false,
    "pycharm": {
     "name": "#%%\n"
    }
   }
  },
  {
   "cell_type": "code",
   "execution_count": 6,
   "outputs": [
    {
     "name": "stdout",
     "output_type": "stream",
     "text": [
      "Epoch 1/20\n",
      "512/512 [==============================] - 26s 39ms/step - loss: 3.6041 - accuracy: 0.2564 - val_loss: 2.1087 - val_accuracy: 0.6101\n",
      "Epoch 2/20\n",
      "512/512 [==============================] - 19s 37ms/step - loss: 1.8341 - accuracy: 0.5921 - val_loss: 1.2367 - val_accuracy: 0.7065\n",
      "Epoch 3/20\n",
      "512/512 [==============================] - 19s 37ms/step - loss: 1.2136 - accuracy: 0.6903 - val_loss: 0.9880 - val_accuracy: 0.7358\n",
      "Epoch 4/20\n",
      "512/512 [==============================] - 19s 36ms/step - loss: 0.9569 - accuracy: 0.7441 - val_loss: 0.8869 - val_accuracy: 0.7456\n",
      "Epoch 5/20\n",
      "512/512 [==============================] - 19s 36ms/step - loss: 0.7977 - accuracy: 0.7826 - val_loss: 0.8325 - val_accuracy: 0.7510\n",
      "Epoch 6/20\n",
      "512/512 [==============================] - 19s 36ms/step - loss: 0.7087 - accuracy: 0.7982 - val_loss: 0.8079 - val_accuracy: 0.7544\n",
      "Epoch 7/20\n",
      "512/512 [==============================] - 19s 37ms/step - loss: 0.6106 - accuracy: 0.8256 - val_loss: 0.8014 - val_accuracy: 0.7593\n",
      "Epoch 8/20\n",
      "512/512 [==============================] - 19s 38ms/step - loss: 0.5602 - accuracy: 0.8352 - val_loss: 0.7687 - val_accuracy: 0.7666\n",
      "Epoch 9/20\n",
      "512/512 [==============================] - 19s 36ms/step - loss: 0.5065 - accuracy: 0.8500 - val_loss: 0.7798 - val_accuracy: 0.7632\n",
      "Epoch 10/20\n",
      "512/512 [==============================] - 19s 36ms/step - loss: 0.4470 - accuracy: 0.8714 - val_loss: 0.7776 - val_accuracy: 0.7627\n",
      "Epoch 11/20\n",
      "512/512 [==============================] - 18s 36ms/step - loss: 0.4032 - accuracy: 0.8827 - val_loss: 0.7806 - val_accuracy: 0.7608\n",
      "Epoch 12/20\n",
      "512/512 [==============================] - 18s 36ms/step - loss: 0.3637 - accuracy: 0.8945 - val_loss: 0.7891 - val_accuracy: 0.7588\n",
      "Epoch 13/20\n",
      "512/512 [==============================] - 18s 36ms/step - loss: 0.3364 - accuracy: 0.9046 - val_loss: 0.7974 - val_accuracy: 0.7539\n",
      "Epoch 14/20\n",
      "512/512 [==============================] - 18s 36ms/step - loss: 0.3126 - accuracy: 0.9071 - val_loss: 0.7947 - val_accuracy: 0.7642\n",
      "Epoch 15/20\n",
      "512/512 [==============================] - 18s 36ms/step - loss: 0.2916 - accuracy: 0.9160 - val_loss: 0.8073 - val_accuracy: 0.7583\n",
      "Epoch 16/20\n",
      "512/512 [==============================] - 18s 35ms/step - loss: 0.2729 - accuracy: 0.9205 - val_loss: 0.8082 - val_accuracy: 0.7544\n",
      "Epoch 17/20\n",
      "512/512 [==============================] - 18s 36ms/step - loss: 0.2482 - accuracy: 0.9258 - val_loss: 0.8110 - val_accuracy: 0.7593\n",
      "Epoch 18/20\n",
      "512/512 [==============================] - 18s 36ms/step - loss: 0.2339 - accuracy: 0.9310 - val_loss: 0.8183 - val_accuracy: 0.7588\n",
      "Epoch 19/20\n",
      "512/512 [==============================] - 18s 36ms/step - loss: 0.2101 - accuracy: 0.9416 - val_loss: 0.8193 - val_accuracy: 0.7613\n",
      "Epoch 20/20\n",
      "512/512 [==============================] - 18s 36ms/step - loss: 0.2023 - accuracy: 0.9414 - val_loss: 0.8350 - val_accuracy: 0.7510\n"
     ]
    }
   ],
   "source": [
    "history_res = model.fit(train_generator, epochs=20, verbose = 1,\n",
    "                       validation_data=validation_generator)"
   ],
   "metadata": {
    "collapsed": false,
    "pycharm": {
     "name": "#%%\n"
    }
   }
  },
  {
   "cell_type": "code",
   "execution_count": 7,
   "outputs": [
    {
     "data": {
      "text/plain": "<Figure size 432x288 with 1 Axes>",
      "image/png": "[encoded data removed]"
     },
     "metadata": {
      "needs_background": "light"
     },
     "output_type": "display_data"
    },
    {
     "data": {
      "text/plain": "<Figure size 432x288 with 1 Axes>",
      "image/png": "[encoded data removed]"
     },
     "metadata": {
      "needs_background": "light"
     },
     "output_type": "display_data"
    }
   ],
   "source": [
    "plt.figure()\n",
    "plt.plot(history_res .history[\"val_loss\"], label = \"Val loss\")\n",
    "plt.plot(history_res .history[\"loss\"], label = \"Train loss\")\n",
    "plt.legend()\n",
    "plt.show()\n",
    "plt.figure()\n",
    "plt.plot(history_res .history[\"val_accuracy\"], label = \"Val accuracy\")\n",
    "plt.plot(history_res .history[\"accuracy\"], label = \"Accuracy\")\n",
    "plt.legend()\n",
    "plt.show()"
   ],
   "metadata": {
    "collapsed": false,
    "pycharm": {
     "name": "#%%\n"
    }
   }
  },
  {
   "cell_type": "code",
   "execution_count": 9,
   "outputs": [
    {
     "data": {
      "text/plain": "<PIL.Image.Image image mode=RGBA size=1337x74 at 0x16552021CC0>",
      "image/png": "[encoded data removed]"
     },
     "execution_count": 9,
     "metadata": {},
     "output_type": "execute_result"
    }
   ],
   "source": [
    "visualkeras.layered_view(model,  legend=True)"
   ],
   "metadata": {
    "collapsed": false,
    "pycharm": {
     "name": "#%%\n"
    }
   }
  },
  {
   "cell_type": "code",
   "execution_count": null,
   "outputs": [],
   "source": [],
   "metadata": {
    "collapsed": false,
    "pycharm": {
     "name": "#%%\n"
    }
   }
  }
 ],
 "metadata": {
  "kernelspec": {
   "display_name": "Python 3",
   "language": "python",
   "name": "python3"
  },
  "language_info": {
   "codemirror_mode": {
    "name": "ipython",
    "version": 2
   },
   "file_extension": ".py",
   "mimetype": "text/x-python",
   "name": "python",
   "nbconvert_exporter": "python",
   "pygments_lexer": "ipython2",
   "version": "2.7.6"
  }
 },
 "nbformat": 4,
 "nbformat_minor": 0
}