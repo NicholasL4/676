{
 "cells": [
  {
   "cell_type": "code",
   "execution_count": 23,
   "outputs": [],
   "source": [
    "import pandas as pd\n",
    "import pathlib\n",
    "import tensorflow as tf\n",
    "import matplotlib.pyplot as plt\n",
    "from tensorflow import keras\n",
    "from keras.preprocessing.image import ImageDataGenerator\n",
    "from keras.models import Sequential\n",
    "from keras.layers import Conv2D, MaxPooling2D\n",
    "from keras.layers import Activation, Dropout, Flatten, Dense, BatchNormalization, GlobalAveragePooling2D"
   ],
   "metadata": {
    "collapsed": false,
    "pycharm": {
     "name": "#%%\n"
    }
   }
  },
  {
   "cell_type": "code",
   "execution_count": 2,
   "outputs": [],
   "source": [
    "labels_csv = pd.read_csv('labels.csv')\n",
    "labels_csv[\"id\"] = [fname + \".jpg\" for fname in labels_csv[\"id\"]]\n",
    "data_train = pathlib.Path('train')\n",
    "data_test = pathlib.Path('test')"
   ],
   "metadata": {
    "collapsed": false,
    "pycharm": {
     "name": "#%%\n"
    }
   }
  },
  {
   "cell_type": "code",
   "execution_count": 3,
   "outputs": [],
   "source": [
    "batch_size = 32\n",
    "img_size = 224\n",
    "\n",
    "data_augmentation = tf.keras.Sequential([\n",
    "  tf.keras.layers.RandomFlip('horizontal')\n",
    "])"
   ],
   "metadata": {
    "collapsed": false,
    "pycharm": {
     "name": "#%%\n"
    }
   }
  },
  {
   "cell_type": "code",
   "execution_count": 4,
   "outputs": [
    {
     "name": "stdout",
     "output_type": "stream",
     "text": [
      "Found 8178 validated image filenames belonging to 120 classes.\n",
      "Found 2044 validated image filenames belonging to 120 classes.\n"
     ]
    }
   ],
   "source": [
    "datagen = ImageDataGenerator(validation_split=0.2)\n",
    "train_generator = datagen.flow_from_dataframe(\n",
    "                        dataframe = labels_csv,\n",
    "                        directory = data_train,\n",
    "                        subset=\"training\",\n",
    "                        x_col=\"id\",\n",
    "                        y_col=\"breed\",\n",
    "                        batch_size=batch_size,\n",
    "                        shuffle=True,\n",
    "                        class_mode=\"sparse\",\n",
    "                        color_mode=\"rgb\",\n",
    "                        target_size=(img_size, img_size))\n",
    "\n",
    "validation_generator = datagen.flow_from_dataframe(\n",
    "                        dataframe = labels_csv,\n",
    "                        directory = data_train,\n",
    "                        subset=\"validation\",\n",
    "                        x_col=\"id\",\n",
    "                        y_col=\"breed\",\n",
    "                        batch_size=batch_size,\n",
    "                        shuffle=True,\n",
    "                        class_mode=\"sparse\",\n",
    "                        color_mode=\"rgb\",\n",
    "                        target_size=(img_size, img_size))"
   ],
   "metadata": {
    "collapsed": false,
    "pycharm": {
     "name": "#%%\n"
    }
   }
  },
  {
   "cell_type": "code",
   "execution_count": 24,
   "outputs": [
    {
     "name": "stdout",
     "output_type": "stream",
     "text": [
      "Model: \"sequential_10\"\n",
      "_________________________________________________________________\n",
      " Layer (type)                Output Shape              Param #   \n",
      "=================================================================\n",
      " batch_normalization_10 (Bat  (None, 224, 224, 3)      12        \n",
      " chNormalization)                                                \n",
      "                                                                 \n",
      " conv2d_36 (Conv2D)          (None, 222, 222, 16)      448       \n",
      "                                                                 \n",
      " max_pooling2d_32 (MaxPoolin  (None, 111, 111, 16)     0         \n",
      " g2D)                                                            \n",
      "                                                                 \n",
      " batch_normalization_11 (Bat  (None, 111, 111, 16)     64        \n",
      " chNormalization)                                                \n",
      "                                                                 \n",
      " conv2d_37 (Conv2D)          (None, 109, 109, 32)      4640      \n",
      "                                                                 \n",
      " max_pooling2d_33 (MaxPoolin  (None, 54, 54, 32)       0         \n",
      " g2D)                                                            \n",
      "                                                                 \n",
      " batch_normalization_12 (Bat  (None, 54, 54, 32)       128       \n",
      " chNormalization)                                                \n",
      "                                                                 \n",
      " conv2d_38 (Conv2D)          (None, 52, 52, 64)        18496     \n",
      "                                                                 \n",
      " max_pooling2d_34 (MaxPoolin  (None, 26, 26, 64)       0         \n",
      " g2D)                                                            \n",
      "                                                                 \n",
      " batch_normalization_13 (Bat  (None, 26, 26, 64)       256       \n",
      " chNormalization)                                                \n",
      "                                                                 \n",
      " conv2d_39 (Conv2D)          (None, 24, 24, 128)       73856     \n",
      "                                                                 \n",
      " max_pooling2d_35 (MaxPoolin  (None, 12, 12, 128)      0         \n",
      " g2D)                                                            \n",
      "                                                                 \n",
      " batch_normalization_14 (Bat  (None, 12, 12, 128)      512       \n",
      " chNormalization)                                                \n",
      "                                                                 \n",
      " conv2d_40 (Conv2D)          (None, 10, 10, 256)       295168    \n",
      "                                                                 \n",
      " max_pooling2d_36 (MaxPoolin  (None, 5, 5, 256)        0         \n",
      " g2D)                                                            \n",
      "                                                                 \n",
      " global_average_pooling2d (G  (None, 256)              0         \n",
      " lobalAveragePooling2D)                                          \n",
      "                                                                 \n",
      " dense_18 (Dense)            (None, 120)               30840     \n",
      "                                                                 \n",
      "=================================================================\n",
      "Total params: 424,420\n",
      "Trainable params: 423,934\n",
      "Non-trainable params: 486\n",
      "_________________________________________________________________\n"
     ]
    }
   ],
   "source": [
    "model = Sequential()\n",
    "model.add(BatchNormalization(input_shape=(224, 224, 3)))\n",
    "model.add(Conv2D(filters=16, kernel_size=3, kernel_initializer='he_normal', activation='relu'))\n",
    "model.add(MaxPooling2D(pool_size=2))\n",
    "model.add(BatchNormalization())\n",
    "\n",
    "model.add(Conv2D(filters=32, kernel_size=3, kernel_initializer='he_normal', activation='relu'))\n",
    "model.add(MaxPooling2D(pool_size=2))\n",
    "model.add(BatchNormalization())\n",
    "\n",
    "model.add(Conv2D(filters=64, kernel_size=3, kernel_initializer='he_normal', activation='relu'))\n",
    "model.add(MaxPooling2D(pool_size=2))\n",
    "model.add(BatchNormalization())\n",
    "\n",
    "model.add(Conv2D(filters=128, kernel_size=3, kernel_initializer='he_normal', activation='relu'))\n",
    "model.add(MaxPooling2D(pool_size=2))\n",
    "model.add(BatchNormalization())\n",
    "\n",
    "model.add(Conv2D(filters=256, kernel_size=3, kernel_initializer='he_normal', activation='relu'))\n",
    "model.add(MaxPooling2D(pool_size=2))\n",
    "model.add(GlobalAveragePooling2D())\n",
    "model.add(Dense(120, activation = \"softmax\"))\n",
    "model.compile(loss='sparse_categorical_crossentropy', optimizer='rmsprop', metrics=['accuracy'])\n",
    "\n",
    "model.summary()"
   ],
   "metadata": {
    "collapsed": false,
    "pycharm": {
     "name": "#%%\n"
    }
   }
  },
  {
   "cell_type": "code",
   "execution_count": 25,
   "outputs": [
    {
     "name": "stdout",
     "output_type": "stream",
     "text": [
      "Epoch 1/50\n",
      "255/255 [==============================] - 14s 50ms/step - loss: 4.8590 - accuracy: 0.0303 - val_loss: 4.7622 - val_accuracy: 0.0357\n",
      "Epoch 2/50\n",
      "255/255 [==============================] - 11s 44ms/step - loss: 4.3656 - accuracy: 0.0624 - val_loss: 4.4162 - val_accuracy: 0.0575\n",
      "Epoch 3/50\n",
      "255/255 [==============================] - 11s 43ms/step - loss: 4.0493 - accuracy: 0.0946 - val_loss: 4.1373 - val_accuracy: 0.0883\n",
      "Epoch 4/50\n",
      "255/255 [==============================] - 11s 43ms/step - loss: 3.7517 - accuracy: 0.1350 - val_loss: 4.0158 - val_accuracy: 0.0918\n",
      "Epoch 5/50\n",
      "255/255 [==============================] - 11s 43ms/step - loss: 3.4611 - accuracy: 0.1914 - val_loss: 3.9715 - val_accuracy: 0.1161\n",
      "Epoch 6/50\n",
      "255/255 [==============================] - 11s 44ms/step - loss: 3.2025 - accuracy: 0.2331 - val_loss: 3.8446 - val_accuracy: 0.1215\n",
      "Epoch 7/50\n",
      "255/255 [==============================] - 11s 44ms/step - loss: 2.9469 - accuracy: 0.2815 - val_loss: 3.7353 - val_accuracy: 0.1587\n",
      "Epoch 8/50\n",
      "255/255 [==============================] - 11s 44ms/step - loss: 2.6884 - accuracy: 0.3395 - val_loss: 3.8007 - val_accuracy: 0.1647\n",
      "Epoch 9/50\n",
      "255/255 [==============================] - 11s 45ms/step - loss: 2.4189 - accuracy: 0.3955 - val_loss: 3.9986 - val_accuracy: 0.1562\n",
      "Epoch 10/50\n",
      "255/255 [==============================] - 12s 46ms/step - loss: 2.1769 - accuracy: 0.4482 - val_loss: 3.8009 - val_accuracy: 0.1602\n",
      "Epoch 11/50\n",
      "255/255 [==============================] - 11s 44ms/step - loss: 1.9137 - accuracy: 0.5107 - val_loss: 3.8980 - val_accuracy: 0.1612\n",
      "Epoch 12/50\n",
      "255/255 [==============================] - 11s 44ms/step - loss: 1.6728 - accuracy: 0.5689 - val_loss: 3.8758 - val_accuracy: 0.1900\n",
      "Epoch 13/50\n",
      "255/255 [==============================] - 11s 44ms/step - loss: 1.4332 - accuracy: 0.6314 - val_loss: 4.0520 - val_accuracy: 0.1751\n",
      "Epoch 14/50\n",
      "255/255 [==============================] - 11s 44ms/step - loss: 1.1888 - accuracy: 0.6962 - val_loss: 4.2760 - val_accuracy: 0.1736\n",
      "Epoch 15/50\n",
      "255/255 [==============================] - 11s 44ms/step - loss: 0.9801 - accuracy: 0.7413 - val_loss: 4.4022 - val_accuracy: 0.1602\n",
      "Epoch 16/50\n",
      "255/255 [==============================] - 11s 44ms/step - loss: 0.7995 - accuracy: 0.8016 - val_loss: 4.4338 - val_accuracy: 0.1875\n",
      "Epoch 17/50\n",
      "255/255 [==============================] - 11s 44ms/step - loss: 0.6374 - accuracy: 0.8418 - val_loss: 4.8649 - val_accuracy: 0.1577\n",
      "Epoch 18/50\n",
      "255/255 [==============================] - 11s 44ms/step - loss: 0.4985 - accuracy: 0.8823 - val_loss: 4.7631 - val_accuracy: 0.1721\n",
      "Epoch 19/50\n",
      "255/255 [==============================] - 11s 43ms/step - loss: 0.4168 - accuracy: 0.8996 - val_loss: 5.2479 - val_accuracy: 0.1825\n",
      "Epoch 20/50\n",
      "255/255 [==============================] - 11s 44ms/step - loss: 0.3325 - accuracy: 0.9252 - val_loss: 5.2106 - val_accuracy: 0.1617\n",
      "Epoch 21/50\n",
      "255/255 [==============================] - 11s 44ms/step - loss: 0.2712 - accuracy: 0.9373 - val_loss: 5.0255 - val_accuracy: 0.1558\n",
      "Epoch 22/50\n",
      "255/255 [==============================] - 11s 44ms/step - loss: 0.2365 - accuracy: 0.9451 - val_loss: 5.2844 - val_accuracy: 0.1677\n",
      "Epoch 23/50\n",
      "255/255 [==============================] - 11s 44ms/step - loss: 0.1973 - accuracy: 0.9570 - val_loss: 5.7417 - val_accuracy: 0.1806\n",
      "Epoch 24/50\n",
      "255/255 [==============================] - 11s 44ms/step - loss: 0.1771 - accuracy: 0.9591 - val_loss: 5.4636 - val_accuracy: 0.1756\n",
      "Epoch 25/50\n",
      "255/255 [==============================] - 11s 44ms/step - loss: 0.1491 - accuracy: 0.9669 - val_loss: 6.7382 - val_accuracy: 0.1647\n",
      "Epoch 26/50\n",
      "255/255 [==============================] - 11s 44ms/step - loss: 0.1339 - accuracy: 0.9709 - val_loss: 6.1999 - val_accuracy: 0.1701\n",
      "Epoch 27/50\n",
      "255/255 [==============================] - 11s 44ms/step - loss: 0.1213 - accuracy: 0.9723 - val_loss: 5.9006 - val_accuracy: 0.1662\n",
      "Epoch 28/50\n",
      "255/255 [==============================] - 11s 44ms/step - loss: 0.1175 - accuracy: 0.9736 - val_loss: 6.5728 - val_accuracy: 0.1796\n",
      "Epoch 29/50\n",
      "255/255 [==============================] - 11s 44ms/step - loss: 0.1170 - accuracy: 0.9730 - val_loss: 6.0378 - val_accuracy: 0.1835\n",
      "Epoch 30/50\n",
      "255/255 [==============================] - 11s 44ms/step - loss: 0.1030 - accuracy: 0.9793 - val_loss: 7.6922 - val_accuracy: 0.1533\n",
      "Epoch 31/50\n",
      "255/255 [==============================] - 11s 44ms/step - loss: 0.0944 - accuracy: 0.9788 - val_loss: 5.9039 - val_accuracy: 0.1870\n",
      "Epoch 32/50\n",
      "255/255 [==============================] - 11s 44ms/step - loss: 0.0984 - accuracy: 0.9767 - val_loss: 7.3664 - val_accuracy: 0.1721\n",
      "Epoch 33/50\n",
      "255/255 [==============================] - 11s 44ms/step - loss: 0.0848 - accuracy: 0.9805 - val_loss: 6.1255 - val_accuracy: 0.1652\n",
      "Epoch 34/50\n",
      "255/255 [==============================] - 11s 44ms/step - loss: 0.0827 - accuracy: 0.9788 - val_loss: 6.8195 - val_accuracy: 0.1835\n",
      "Epoch 35/50\n",
      "255/255 [==============================] - 11s 44ms/step - loss: 0.0774 - accuracy: 0.9824 - val_loss: 6.5133 - val_accuracy: 0.1741\n",
      "Epoch 36/50\n",
      "255/255 [==============================] - 11s 44ms/step - loss: 0.0766 - accuracy: 0.9822 - val_loss: 6.6389 - val_accuracy: 0.1880\n",
      "Epoch 37/50\n",
      "255/255 [==============================] - 11s 45ms/step - loss: 0.0812 - accuracy: 0.9804 - val_loss: 7.9043 - val_accuracy: 0.1726\n",
      "Epoch 38/50\n",
      "255/255 [==============================] - 11s 45ms/step - loss: 0.0741 - accuracy: 0.9824 - val_loss: 6.7456 - val_accuracy: 0.1716\n",
      "Epoch 39/50\n",
      "255/255 [==============================] - 12s 45ms/step - loss: 0.0639 - accuracy: 0.9843 - val_loss: 6.9275 - val_accuracy: 0.1721\n",
      "Epoch 40/50\n",
      "255/255 [==============================] - 12s 45ms/step - loss: 0.0709 - accuracy: 0.9853 - val_loss: 7.9243 - val_accuracy: 0.1776\n",
      "Epoch 41/50\n",
      "255/255 [==============================] - 11s 43ms/step - loss: 0.0728 - accuracy: 0.9811 - val_loss: 7.2041 - val_accuracy: 0.1711\n",
      "Epoch 42/50\n",
      "255/255 [==============================] - 11s 43ms/step - loss: 0.0637 - accuracy: 0.9859 - val_loss: 7.8719 - val_accuracy: 0.1667\n",
      "Epoch 43/50\n",
      "255/255 [==============================] - 11s 43ms/step - loss: 0.0658 - accuracy: 0.9848 - val_loss: 7.6461 - val_accuracy: 0.1677\n",
      "Epoch 44/50\n",
      "255/255 [==============================] - 11s 43ms/step - loss: 0.0670 - accuracy: 0.9840 - val_loss: 6.8825 - val_accuracy: 0.1905\n",
      "Epoch 45/50\n",
      "255/255 [==============================] - 11s 43ms/step - loss: 0.0521 - accuracy: 0.9866 - val_loss: 8.3928 - val_accuracy: 0.1925\n",
      "Epoch 46/50\n",
      "255/255 [==============================] - 11s 43ms/step - loss: 0.0597 - accuracy: 0.9838 - val_loss: 7.4730 - val_accuracy: 0.1677\n",
      "Epoch 47/50\n",
      "255/255 [==============================] - 11s 43ms/step - loss: 0.0598 - accuracy: 0.9858 - val_loss: 8.8184 - val_accuracy: 0.1637\n",
      "Epoch 48/50\n",
      "255/255 [==============================] - 11s 43ms/step - loss: 0.0524 - accuracy: 0.9864 - val_loss: 7.3090 - val_accuracy: 0.1672\n",
      "Epoch 49/50\n",
      "255/255 [==============================] - 11s 43ms/step - loss: 0.0566 - accuracy: 0.9861 - val_loss: 7.2525 - val_accuracy: 0.1726\n",
      "Epoch 50/50\n",
      "255/255 [==============================] - 11s 43ms/step - loss: 0.0578 - accuracy: 0.9847 - val_loss: 7.6583 - val_accuracy: 0.1786\n"
     ]
    }
   ],
   "source": [
    "history_cnn = model.fit(train_generator,\n",
    "                        steps_per_epoch = train_generator.samples // batch_size,\n",
    "                        validation_data = validation_generator,\n",
    "                        validation_steps = validation_generator.samples // batch_size,\n",
    "                        epochs = 50)"
   ],
   "metadata": {
    "collapsed": false,
    "pycharm": {
     "name": "#%%\n"
    }
   }
  },
  {
   "cell_type": "code",
   "execution_count": 26,
   "outputs": [
    {
     "data": {
      "text/plain": "<Figure size 432x288 with 1 Axes>",
      "image/png": "[encoded data removed]"
     },
     "metadata": {
      "needs_background": "light"
     },
     "output_type": "display_data"
    },
    {
     "data": {
      "text/plain": "<Figure size 432x288 with 1 Axes>",
      "image/png": "[encoded data removed]"
     },
     "metadata": {
      "needs_background": "light"
     },
     "output_type": "display_data"
    }
   ],
   "source": [
    "plt.figure()\n",
    "plt.plot(history_cnn .history[\"val_loss\"], label = \"Val loss\")\n",
    "plt.plot(history_cnn .history[\"loss\"], label = \"Train loss\")\n",
    "plt.legend()\n",
    "plt.show()\n",
    "plt.figure()\n",
    "plt.plot(history_cnn .history[\"val_accuracy\"], label = \"Val accuracy\")\n",
    "plt.plot(history_cnn .history[\"accuracy\"], label = \"Accuracy\")\n",
    "plt.legend()\n",
    "plt.show()"
   ],
   "metadata": {
    "collapsed": false,
    "pycharm": {
     "name": "#%%\n"
    }
   }
  },
  {
   "cell_type": "code",
   "execution_count": null,
   "outputs": [],
   "source": [],
   "metadata": {
    "collapsed": false,
    "pycharm": {
     "name": "#%%\n"
    }
   }
  }
 ],
 "metadata": {
  "kernelspec": {
   "display_name": "Python 3",
   "language": "python",
   "name": "python3"
  },
  "language_info": {
   "codemirror_mode": {
    "name": "ipython",
    "version": 2
   },
   "file_extension": ".py",
   "mimetype": "text/x-python",
   "name": "python",
   "nbconvert_exporter": "python",
   "pygments_lexer": "ipython2",
   "version": "2.7.6"
  }
 },
 "nbformat": 4,
 "nbformat_minor": 0
}