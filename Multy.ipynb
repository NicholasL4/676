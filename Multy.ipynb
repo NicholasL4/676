{
 "cells": [
  {
   "cell_type": "code",
   "execution_count": 1,
   "metadata": {
    "collapsed": true
   },
   "outputs": [],
   "source": [
    "import pandas as pd\n",
    "import pathlib\n",
    "import tensorflow as tf\n",
    "from tensorflow import keras\n",
    "from keras.preprocessing.image import ImageDataGenerator\n",
    "from keras.models import Sequential\n",
    "from keras import applications\n",
    "from keras.layers import Activation, Dropout, Flatten, Dense,GlobalAveragePooling2D"
   ]
  },
  {
   "cell_type": "code",
   "execution_count": 2,
   "outputs": [],
   "source": [
    "labels_csv = pd.read_csv('labels.csv')\n",
    "labels_csv[\"id\"] = [fname + \".jpg\" for fname in labels_csv[\"id\"]]\n",
    "data_train = pathlib.Path('train')\n",
    "data_test = pathlib.Path('test')"
   ],
   "metadata": {
    "collapsed": false,
    "pycharm": {
     "name": "#%%\n"
    }
   }
  },
  {
   "cell_type": "code",
   "execution_count": 3,
   "outputs": [],
   "source": [
    "batch_size = 8\n",
    "img_size = 224"
   ],
   "metadata": {
    "collapsed": false,
    "pycharm": {
     "name": "#%%\n"
    }
   }
  },
  {
   "cell_type": "code",
   "execution_count": 4,
   "outputs": [
    {
     "name": "stdout",
     "output_type": "stream",
     "text": [
      "Found 8178 validated image filenames belonging to 120 classes.\n",
      "Found 2044 validated image filenames belonging to 120 classes.\n"
     ]
    }
   ],
   "source": [
    "datagen = ImageDataGenerator(preprocessing_function = keras.applications.vgg16.preprocess_input, validation_split=0.2)\n",
    "train_generator = datagen.flow_from_dataframe(\n",
    "                        dataframe = labels_csv,\n",
    "                        directory = data_train,\n",
    "                        subset=\"training\",\n",
    "                        x_col=\"id\",\n",
    "                        y_col=\"breed\",\n",
    "                        batch_size=batch_size,\n",
    "                        shuffle=True,\n",
    "                        class_mode=\"sparse\",\n",
    "                        color_mode=\"rgb\",\n",
    "                        target_size=(img_size, img_size))\n",
    "\n",
    "validation_generator = datagen.flow_from_dataframe(\n",
    "                        dataframe = labels_csv,\n",
    "                        directory = data_train,\n",
    "                        subset=\"validation\",\n",
    "                        x_col=\"id\",\n",
    "                        y_col=\"breed\",\n",
    "                        batch_size=batch_size,\n",
    "                        shuffle=True,\n",
    "                        class_mode=\"sparse\",\n",
    "                        color_mode=\"rgb\",\n",
    "                        target_size=(img_size, img_size))"
   ],
   "metadata": {
    "collapsed": false,
    "pycharm": {
     "name": "#%%\n"
    }
   }
  },
  {
   "cell_type": "code",
   "execution_count": 7,
   "outputs": [
    {
     "name": "stdout",
     "output_type": "stream",
     "text": [
      "Model: \"sequential_2\"\n",
      "_________________________________________________________________\n",
      " Layer (type)                Output Shape              Param #   \n",
      "=================================================================\n",
      " vgg16 (Functional)          (None, 7, 7, 512)         14714688  \n",
      "                                                                 \n",
      " global_average_pooling2d_2   (None, 512)              0         \n",
      " (GlobalAveragePooling2D)                                        \n",
      "                                                                 \n",
      "=================================================================\n",
      "Total params: 14,714,688\n",
      "Trainable params: 14,714,688\n",
      "Non-trainable params: 0\n",
      "_________________________________________________________________\n"
     ]
    }
   ],
   "source": [
    "vgg16 = applications.vgg16.VGG16(include_top=False, weights='imagenet',input_shape=(224,224,3))\n",
    "inceptionV3 = applications.inception_v3.InceptionV3(include_top=False, weights='imagenet',input_shape=(224,224,3))\n",
    "\n",
    "model = Sequential()\n",
    "model.add(vgg16)\n",
    "model.add(GlobalAveragePooling2D())\n",
    "# model.add(Dropout(0.5))\n",
    "# model.add(inceptionV3)\n",
    "# model.add(GlobalAveragePooling2D())\n",
    "# model.add(Dropout(0.5))\n",
    "# model.add(Dense(120, activation='softmax'))\n",
    "model.summary()\n",
    "\n",
    "optimizer=tf.keras.optimizers.Adam(learning_rate = 0.0001)\n",
    "model.compile(optimizer=optimizer,\n",
    "                     loss='sparse_categorical_crossentropy',\n",
    "                     metrics=['accuracy'])"
   ],
   "metadata": {
    "collapsed": false,
    "pycharm": {
     "name": "#%%\n"
    }
   }
  },
  {
   "cell_type": "code",
   "execution_count": null,
   "outputs": [],
   "source": [
    "model.fit(train_generator, epochs=20, verbose = 1,\n",
    "                        validation_data=validation_generator)"
   ],
   "metadata": {
    "collapsed": false,
    "pycharm": {
     "name": "#%%\n"
    }
   }
  }
 ],
 "metadata": {
  "kernelspec": {
   "display_name": "Python 3",
   "language": "python",
   "name": "python3"
  },
  "language_info": {
   "codemirror_mode": {
    "name": "ipython",
    "version": 2
   },
   "file_extension": ".py",
   "mimetype": "text/x-python",
   "name": "python",
   "nbconvert_exporter": "python",
   "pygments_lexer": "ipython2",
   "version": "2.7.6"
  }
 },
 "nbformat": 4,
 "nbformat_minor": 0
}